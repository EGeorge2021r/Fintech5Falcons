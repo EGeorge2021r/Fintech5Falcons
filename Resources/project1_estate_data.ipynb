{
 "cells": [
  {
   "cell_type": "markdown",
   "id": "ab5f673e-553c-4098-8f58-116acdd501f4",
   "metadata": {},
   "source": [
    "# The aim of the project is to establish quantitatively that proximity of central markets, using Starbucks as a case study makes a significant difference on estimated home values, appreciation, and average tax amounts in the neighborhood. This analysis will help investors to determine which neighborhood to invest in property that will produce maximum return on investment."
   ]
  },
  {
   "cell_type": "markdown",
   "id": "90c8b000-6abe-4be8-802d-e4d578deb091",
   "metadata": {},
   "source": [
    "## The analysis is split into 3 sections as follows:\n",
    "###  1. Fetch real estate data from real estate API into a csv format, analyse and clean data for use in the analysis\n",
    "###  2. Fetch Starbucks location data from API into a csv format, analyse and clean data using pandas\n",
    "###  3. Fetch Starbucks opening or built data from API into a csv format, analyse and clean data using pandas\n",
    "###  4. Analyse and merge opening data and location data to a single DataFrame"
   ]
  },
  {
   "cell_type": "code",
   "execution_count": null,
   "id": "bb8ed235-59f0-4f64-83ee-c5a5ed9e69ab",
   "metadata": {},
   "outputs": [],
   "source": []
  },
  {
   "cell_type": "markdown",
   "id": "3b8428fe-4132-4bc7-80f2-0786a6804331",
   "metadata": {},
   "source": [
    "# Step 1. Import all the required libraries and dependenciesfor the project"
   ]
  },
  {
   "cell_type": "code",
   "execution_count": 72,
   "id": "822edcfc-6030-4087-b048-37a6cbb3a9c3",
   "metadata": {},
   "outputs": [
    {
     "ename": "ModuleNotFoundError",
     "evalue": "No module named 'dotenv'",
     "output_type": "error",
     "traceback": [
      "\u001b[1;31m---------------------------------------------------------------------------\u001b[0m",
      "\u001b[1;31mModuleNotFoundError\u001b[0m                       Traceback (most recent call last)",
      "\u001b[1;32m<ipython-input-72-6e84f61c861a>\u001b[0m in \u001b[0;36m<module>\u001b[1;34m\u001b[0m\n\u001b[0;32m     10\u001b[0m \u001b[1;32mimport\u001b[0m \u001b[0mrequests\u001b[0m\u001b[1;33m\u001b[0m\u001b[1;33m\u001b[0m\u001b[0m\n\u001b[0;32m     11\u001b[0m \u001b[1;32mimport\u001b[0m \u001b[0mjson\u001b[0m\u001b[1;33m\u001b[0m\u001b[1;33m\u001b[0m\u001b[0m\n\u001b[1;32m---> 12\u001b[1;33m \u001b[1;32mfrom\u001b[0m \u001b[0mdotenv\u001b[0m \u001b[1;32mimport\u001b[0m \u001b[0mload_dotenv\u001b[0m\u001b[1;33m\u001b[0m\u001b[1;33m\u001b[0m\u001b[0m\n\u001b[0m\u001b[0;32m     13\u001b[0m \u001b[1;32mfrom\u001b[0m \u001b[0mbs4\u001b[0m \u001b[1;32mimport\u001b[0m \u001b[0mBeautifulSoup\u001b[0m\u001b[1;33m\u001b[0m\u001b[1;33m\u001b[0m\u001b[0m\n",
      "\u001b[1;31mModuleNotFoundError\u001b[0m: No module named 'dotenv'"
     ]
    }
   ],
   "source": [
    "# Import the required libraries and dependencies\n",
    "import pandas as pd\n",
    "import hvplot.pandas\n",
    "from pathlib import Path\n",
    "import numpy as np\n",
    "import os\n",
    "import sqlalchemy\n",
    "import requests\n",
    "import sys\n",
    "import requests\n",
    "import json\n",
    "from dotenv import load_dotenv\n",
    "from bs4 import BeautifulSoup"
   ]
  },
  {
   "cell_type": "code",
   "execution_count": 73,
   "id": "259e4b38-1a19-4364-9e37-36efe3348ec6",
   "metadata": {},
   "outputs": [
    {
     "name": "stdout",
     "output_type": "stream",
     "text": [
      "{\"meta\":{\"build\":\"3.23.180\"},\"autocomplete\":[{\"area_type\":\"city\",\"_id\":\"city:tx_texas-city\",\"_score\":8.911143,\"city\":\"Texas City\",\"state_code\":\"TX\",\"counties\":[{\"name\":\"Galveston\",\"fips\":\"48167\",\"state_code\":\"TX\"}],\"country\":\"USA\",\"centroid\":{\"lon\":-94.8926947,\"lat\":29.4337172},\"slug_id\":\"Texas-City_TX\",\"geo_id\":\"f2ce41cc-6bc1-5bce-822f-58fae07d11dd\",\"county_needed_for_uniq\":false},{\"area_type\":\"city\",\"_id\":\"city:il_texas-township\",\"_score\":8.435924,\"city\":\"Texas Township\",\"state_code\":\"IL\",\"counties\":[{\"name\":\"De Witt\",\"fips\":\"17039\",\"state_code\":\"IL\"}],\"country\":\"USA\",\"centroid\":{\"lon\":-88.9717613,\"lat\":40.0989516},\"slug_id\":\"Texas-Township_IL\",\"geo_id\":\"661a1763-dd23-5c73-b6d8-6abb8bc6efb5\",\"county_needed_for_uniq\":false},{\"area_type\":\"school\",\"_id\":\"school:0768867301\",\"_score\":8.2361965,\"school_id\":\"0768867301\",\"school\":\"Texas Torah Institute\",\"line\":\"6506 Frankford Road\",\"city\":\"Dallas\",\"postal_code\":\"75252\",\"state_code\":\"TX\",\"country\":\"USA\",\"centroid\":{\"lon\":-96.792914,\"lat\":32.997377},\"has_catchment\":false,\"slug_id\":\"Texas-Torah-Institute-0768867301\",\"city_slug_id\":\"Dallas_TX\"},{\"area_type\":\"neighborhood\",\"_id\":\"neigh:tx_georgetown_texas-traditions\",\"_score\":8.193058,\"neighborhood\":\"Texas Traditions\",\"city\":\"Georgetown\",\"state_code\":\"TX\",\"country\":\"USA\",\"centroid\":{\"lon\":-97.713414,\"lat\":30.669306},\"slug_id\":\"Texas-Traditions_Georgetown_TX\",\"geo_id\":\"48dcec49-0f2e-55fa-89dc-3385b5930d74\"},{\"area_type\":\"neighborhood\",\"_id\":\"neigh:tx_willis_texas-national\",\"_score\":8.182978,\"neighborhood\":\"Texas National\",\"city\":\"Willis\",\"state_code\":\"TX\",\"country\":\"USA\",\"centroid\":{\"lon\":-95.437462,\"lat\":30.418692},\"slug_id\":\"Texas-National_Willis_TX\",\"geo_id\":\"1adbf75f-a831-5d23-befd-28f297ba379b\"},{\"area_type\":\"county\",\"_id\":\"county:mo_texas\",\"_score\":8.132933,\"county\":\"Texas County\",\"state_code\":\"MO\",\"country\":\"USA\",\"centroid\":{\"lon\":-91.9644783,\"lat\":37.3142565},\"slug_id\":\"Texas-County_MO\",\"geo_id\":\"da0ac544-7e0f-505b-9d21-f15d59d795f8\"},{\"area_type\":\"neighborhood\",\"_id\":\"neigh:al_mobile_texas-street\",\"_score\":8.123396,\"neighborhood\":\"Texas Street\",\"city\":\"Mobile\",\"state_code\":\"AL\",\"country\":\"USA\",\"centroid\":{\"lon\":-88.048904,\"lat\":30.677917},\"slug_id\":\"Texas-Street_Mobile_AL\",\"geo_id\":\"84a611e6-89f7-5283-9956-a92f8212c3c8\"},{\"area_type\":\"neighborhood\",\"_id\":\"neigh:tx_elgin_texas-heritage\",\"_score\":8.104498,\"neighborhood\":\"Texas Heritage\",\"city\":\"Elgin\",\"state_code\":\"TX\",\"country\":\"USA\",\"centroid\":{\"lon\":-97.447916,\"lat\":30.237548},\"slug_id\":\"Texas-Heritage_Elgin_TX\",\"geo_id\":\"42119efc-7132-5f6b-bd39-977e11d34119\"},{\"area_type\":\"neighborhood\",\"_id\":\"neigh:tx_austin_texas-oaks\",\"_score\":8.098738,\"neighborhood\":\"Texas Oaks\",\"city\":\"Austin\",\"state_code\":\"TX\",\"country\":\"USA\",\"centroid\":{\"lon\":-97.817147,\"lat\":30.16789},\"slug_id\":\"Texas-Oaks_Austin_TX\",\"geo_id\":\"a5d60496-86df-5b2d-970a-08667429c93c\"},{\"area_type\":\"neighborhood\",\"_id\":\"neigh:tx_sachse_texas-estates\",\"_score\":8.097298,\"neighborhood\":\"Texas Estates\",\"city\":\"Sachse\",\"state_code\":\"TX\",\"country\":\"USA\",\"centroid\":{\"lon\":-96.577723,\"lat\":32.963053},\"slug_id\":\"Texas-Estates_Sachse_TX\",\"geo_id\":\"20ed98be-d070-5005-8081-998104c6e97f\"}]}\n"
     ]
    }
   ],
   "source": [
    "#Real Estate API\n",
    "\n",
    "url = \"https://realty-in-us.p.rapidapi.com/locations/auto-complete\"\n",
    "\n",
    "querystring = {\"input\":\"Texas\"}\n",
    "\n",
    "headers = {\n",
    "    'x-rapidapi-host': \"realty-in-us.p.rapidapi.com\",\n",
    "    'x-rapidapi-key': \"ad9c006358msh99b8a6bd807e76fp182be9jsn32392df16ceb\"\n",
    "    }\n",
    "\n",
    "response = requests.request(\"GET\", url, headers=headers, params=querystring)\n",
    "\n",
    "print(response.text)\n",
    "\n"
   ]
  },
  {
   "cell_type": "code",
   "execution_count": 70,
   "id": "4d5d63b9-9de5-4602-a91d-5e1fafdba8a7",
   "metadata": {},
   "outputs": [
    {
     "ename": "NameError",
     "evalue": "name 'load_dotenv' is not defined",
     "output_type": "error",
     "traceback": [
      "\u001b[1;31m---------------------------------------------------------------------------\u001b[0m",
      "\u001b[1;31mNameError\u001b[0m                                 Traceback (most recent call last)",
      "\u001b[1;32m<ipython-input-70-c627054e3ad1>\u001b[0m in \u001b[0;36m<module>\u001b[1;34m\u001b[0m\n\u001b[0;32m      1\u001b[0m \u001b[1;31m# Load the environment variables from the .env file\u001b[0m\u001b[1;33m\u001b[0m\u001b[1;33m\u001b[0m\u001b[1;33m\u001b[0m\u001b[0m\n\u001b[0;32m      2\u001b[0m \u001b[1;33m\u001b[0m\u001b[0m\n\u001b[1;32m----> 3\u001b[1;33m \u001b[0mload_dotenv\u001b[0m\u001b[1;33m(\u001b[0m\u001b[1;33m)\u001b[0m\u001b[1;33m\u001b[0m\u001b[1;33m\u001b[0m\u001b[0m\n\u001b[0m",
      "\u001b[1;31mNameError\u001b[0m: name 'load_dotenv' is not defined"
     ]
    }
   ],
   "source": [
    "# Load the environment variables from the .env file\n",
    "\n",
    "load_dotenv()"
   ]
  },
  {
   "cell_type": "markdown",
   "id": "380a7380-200b-4b78-b0c3-4c7e80ce69fa",
   "metadata": {},
   "source": [
    "# Step 2. Using the read_csv function and Path module, create a DataFrame for the Project1 estate data to be used in the analysis "
   ]
  },
  {
   "cell_type": "markdown",
   "id": "e621c40b-f694-4a3b-9664-2ebea25b656f",
   "metadata": {},
   "source": [
    "## This is a thre step process to obtain the data in a form relevant to the project aim\n",
    "####    1. Read the csv data from the database using pandas\n",
    "####    2. Review the DataFrame using the describe function\n",
    "####    3. Using .loc function filter the data by state -TX and by City of Austin"
   ]
  },
  {
   "cell_type": "code",
   "execution_count": null,
   "id": "ed7d0fef-edae-4173-89a2-eae5a414ec02",
   "metadata": {},
   "outputs": [],
   "source": [
    "# Using the read_csv function and Path module, create a DataFrame \n",
    "# by importing the tableau_data.csv file from the Resources folder\n",
    "project1_estate_data_df = pd.read_csv(\n",
    "    Path('tableau_data_Filtered2.csv')\n",
    ")\n",
    "\n",
    "# Review the first and last five rows of the DataFrame\n",
    "project1_estate_data_df"
   ]
  },
  {
   "cell_type": "code",
   "execution_count": null,
   "id": "49efb15c-d972-4ace-95f8-97236655f383",
   "metadata": {},
   "outputs": [],
   "source": [
    "# Review the DataFrame using the describe function\n",
    "\n",
    "project1_estate_data_df.describe()"
   ]
  },
  {
   "cell_type": "code",
   "execution_count": null,
   "id": "b0ab5b69-e51b-49ef-af84-919a7e6c16ef",
   "metadata": {},
   "outputs": [],
   "source": [
    "# filter the data in the DataFrame for only the Texas estate data as tx_df\n",
    "\n",
    "tx_df = project1_estate_data_df.loc[project1_estate_data_df.State==\"TX\"]\n",
    "\n",
    "# Review the first and last five rows of the DataFrame\n",
    "tx_df"
   ]
  },
  {
   "cell_type": "code",
   "execution_count": null,
   "id": "0c62180d-7e15-4e03-9fb8-ca989c3cf13e",
   "metadata": {},
   "outputs": [],
   "source": [
    "# filter the data in the tx_df DataFrame for only the city of Austin as austin_df\n",
    "austin_df = tx_df.loc[tx_df.City==\"Austin\"]\n",
    "\n",
    "# Review the first and last five rows of the DataFrame\n",
    "austin_df"
   ]
  },
  {
   "cell_type": "markdown",
   "id": "6331dab3-63b7-4d9c-8648-712d222e7bb2",
   "metadata": {},
   "source": [
    "# Step 3 Perform data cleaning to eliminate non relevant data  \n",
    "#### - Using drop function to remove the columns not relevant to the analysis"
   ]
  },
  {
   "cell_type": "code",
   "execution_count": null,
   "id": "32057713-6331-44a6-bca3-bf0d57698cb6",
   "metadata": {},
   "outputs": [],
   "source": [
    "# Use drop function to eliminate non relevant data\n",
    "austin_estate_df = austin_df.drop(['StateName', 'State', 'CountyName', 'Inventory', 'month_date_yyyymm', 'RegionID', 'SizeRank', 'postal_code'], axis = 1)\n",
    "#zipCode\tStateName\tState\tCity\tMetro\tCountyName\tDate\tHome Value\tInventory\tmedian_listing_price\tmedian_square_feet\tmonth_date_yyyymm\tRegionID\tSizeRank\tpostal_code\n",
    "\n",
    "# Review the first and last five rows of the DataFrame\n",
    "austin_estate_df"
   ]
  },
  {
   "cell_type": "code",
   "execution_count": null,
   "id": "34a34d76-c91f-42a7-ac19-3f1b4a799244",
   "metadata": {},
   "outputs": [],
   "source": []
  },
  {
   "cell_type": "markdown",
   "id": "aba2f1eb-8e8f-4ead-966e-2d57364ecc74",
   "metadata": {},
   "source": [
    "# Section 2. Perform the analysis of the Starbucks location data "
   ]
  },
  {
   "cell_type": "markdown",
   "id": "e3fe62ac-907b-4bfd-a12c-52861af94dab",
   "metadata": {},
   "source": [
    "## This is a four step process to obtain the data in a form relevant to the project aim\n",
    "####    1. Read the csv data from the starbucks location database using pandas\n",
    "####    2. Review the DataFrame to identify relevant data missing\n",
    "####    3. Using drop function remove data column and rows not relevant to analysis\n",
    "####    3. Using .loc function filter the data by state -TX and by City of Austin"
   ]
  },
  {
   "cell_type": "code",
   "execution_count": null,
   "id": "d8111758-30ae-4be5-a02b-9e2a915c380e",
   "metadata": {},
   "outputs": [],
   "source": [
    "# Yel API to show the location on map\n",
    "\n",
    "url = \"https://yelpapiserg-osipchukv1.p.rapidapi.com/getAutocomplete\"\n",
    "\n",
    "payload = \"text=%3CREQUIRED%3E&accessToken=%3CREQUIRED%3E\"\n",
    "headers = {\n",
    "    'content-type': \"application/x-www-form-urlencoded\",\n",
    "    'x-rapidapi-host': \"YelpAPIserg-osipchukV1.p.rapidapi.com\",\n",
    "    'x-rapidapi-key': \"ad9c006358msh99b8a6bd807e76fp182be9jsn32392df16ceb\"\n",
    "    }\n",
    "\n",
    "response = requests.request(\"POST\", url, data=payload, headers=headers)\n",
    "\n",
    "response"
   ]
  },
  {
   "cell_type": "code",
   "execution_count": null,
   "id": "7fd23303-173d-4461-b6e4-c8c539dbfa01",
   "metadata": {},
   "outputs": [],
   "source": [
    "# Using the read_csv function and Path module, create a DataFrame \n",
    "# by importing the starbucks_data.csv file from the Resources folder\n",
    "\n",
    "starbucks_data_df= pd.read_csv(\n",
    "    Path(\"../Resources/data/starbucks_data.csv\")\n",
    ")\n",
    "# Review the first and last five rows of the DataFrame\n",
    "starbucks_data_df "
   ]
  },
  {
   "cell_type": "code",
   "execution_count": null,
   "id": "ce3402f1-9c67-4bbf-b19f-bc486d07f619",
   "metadata": {},
   "outputs": [],
   "source": [
    "# filter the data in the starbucks_data_df DataFrame for only the city of Austin as austin_starbucks_df\n",
    "austin_starbucks_df = starbucks_data_df.loc[starbucks_data_df.city==\"Austin\"]\n",
    "\n",
    "# Review the first five rows of the DataFrame\n",
    "austin_starbucks_df.head()"
   ]
  },
  {
   "cell_type": "code",
   "execution_count": null,
   "id": "a00466c1-9f83-4c31-b0ef-e9c8bb40fb3c",
   "metadata": {},
   "outputs": [],
   "source": [
    "# Review the last five rows of the DataFrame\n",
    "austin_starbucks_df.head()"
   ]
  },
  {
   "cell_type": "code",
   "execution_count": null,
   "id": "00da4faa-21df-40cc-8d4e-2e08114ef2bb",
   "metadata": {},
   "outputs": [],
   "source": [
    "# Remove muliple columns not relevant to analysis and name the dataframe as clean_austin_starbucks_df\n",
    "\n",
    "clean_austin_starbucks_df = austin_starbucks_df.drop(['phone_number_1', 'name', 'phone_number_2', 'email_1', 'email_2', 'website', 'open_hours', 'facebook', 'twitter', 'instagram', 'pinterest', 'youtube', 'fax_1', 'fax_2'], axis = 1)\n",
    "\n",
    "# Review the first and last five rows of the DataFrame\n",
    "clean_austin_starbucks_df.head()"
   ]
  },
  {
   "cell_type": "code",
   "execution_count": null,
   "id": "acac0ed2-f818-4acb-a21a-97373b7bc8e9",
   "metadata": {},
   "outputs": [],
   "source": [
    "# Review the last five rows of the DataFrame\n",
    "clean_austin_starbucks_df.tail()"
   ]
  },
  {
   "cell_type": "code",
   "execution_count": null,
   "id": "919ea80f-d6cd-4281-a78b-38de978f0126",
   "metadata": {},
   "outputs": [],
   "source": [
    "# Sorting by column \"zip_code\"\n",
    "#clean_austin_starbucks_df.sort_values(by=['zip_code'], ascending=True)\n",
    "clean_austin_starbucks_df.set_index('street_address', inplace = True)\n",
    "clean_austin_starbucks_df"
   ]
  },
  {
   "cell_type": "code",
   "execution_count": null,
   "id": "a9dec607-830d-47eb-9ea9-e99ff6e64d2c",
   "metadata": {},
   "outputs": [],
   "source": [
    "# Using the read_csv function and Path module, create a DataFrame \n",
    "# by importing the starbucks_openingv2.csv file from the Resources folder\n",
    "#starbucks_opening_df= pd.read_csv(Path(\"../Resources/data/starbucks_openingv2.csv\")).dropna()\n",
    "\n",
    "#starbucks_opening_df.set_index('street_address', inplace = True)\n",
    "#starbucks_opening_df.join(clean_austin_starbucks_df, how ='inner')\n",
    "#clean_austin_starbucks_df.join(starbucks_opening_df[['Opened', 'name', 'market']], how = 'inner')\n",
    "#starbucks_opening_df[['Opened', 'name', 'market']]\n",
    "#starbucks_opening_df\n",
    "\n",
    "#clean_austin_starbucks_df"
   ]
  },
  {
   "cell_type": "markdown",
   "id": "7ceb73f0-eb75-4f0b-ad3d-42d21c5ac8a0",
   "metadata": {},
   "source": [
    "# Section 3. Perform the analysis of the Starbucks Opening data in Austin City TX"
   ]
  },
  {
   "cell_type": "markdown",
   "id": "5fdcb2cb-275a-4563-9a8c-821d995a12fa",
   "metadata": {},
   "source": [
    "## This step will provide and idea of the years that starbucks were built in the specific zip codes  \n",
    "####    1. Read the csv data from the starbucks opening database using pandas\n",
    "####    2. Review the DataFrame to identify relevant data missing\n",
    "####    3. Using drop function remove data column and rows not relevant to analysis\n",
    "####    4. Using .loc function filter the data by state -TX and by City of Austin\n",
    "####    5. Using join or merge function, combine the starbucks opening data and location data to create a new dataframe."
   ]
  },
  {
   "cell_type": "code",
   "execution_count": null,
   "id": "dd61604f-93e5-4b38-9a99-1fe8ffa89e78",
   "metadata": {},
   "outputs": [],
   "source": [
    "# Using the read_csv function and Path module, create a DataFrame \n",
    "# by importing the starbucks_openingv2.csv file from the Resources folder\n",
    "starbucks_opening_df= pd.read_csv(Path(\"../Resources/data/starbucks_openingv2.csv\")).dropna()\n",
    "\n",
    "starbucks_opening_df.set_index('street_address', inplace = True)\n",
    "#starbucks_opening_df.join(clean_austin_starbucks_df, how ='inner')\n",
    "clean_austin_starbucks_df.join(starbucks_opening_df[['Opened', 'name', 'market']], how = 'inner')\n",
    "#starbucks_opening_df[['Opened', 'name', 'market']]\n",
    "#starbucks_opening_df\n",
    "\n",
    "clean_austin_starbucks_df"
   ]
  },
  {
   "cell_type": "code",
   "execution_count": null,
   "id": "abdcdabc-c79d-450d-8a10-07317a84d28a",
   "metadata": {},
   "outputs": [],
   "source": [
    "# Filter starbucks opening locations in Austin City only\n",
    "austin_starbucks_opening_df= starbucks_opening_df.loc[starbucks_opening_df.city==\"Austin\"]\n",
    "austin_starbucks_opening_df"
   ]
  },
  {
   "cell_type": "code",
   "execution_count": null,
   "id": "e9afe4e4-a7d3-4caf-b0fe-f59431f1397f",
   "metadata": {},
   "outputs": [],
   "source": [
    "clean_starbucks_opening_df = austin_starbucks_opening_df.drop(['name', 'market'], axis=1)\n",
    "clean_starbucks_opening_df"
   ]
  },
  {
   "cell_type": "code",
   "execution_count": null,
   "id": "dcdbfb32-7206-48b9-a516-c82c3fd380ee",
   "metadata": {},
   "outputs": [],
   "source": []
  },
  {
   "cell_type": "code",
   "execution_count": null,
   "id": "19eb359f-9184-4d31-8291-574ad690fcd9",
   "metadata": {},
   "outputs": [],
   "source": [
    "# Yel API to show the location on map\n",
    "\n",
    "url = \"https://yelpapiserg-osipchukv1.p.rapidapi.com/getAutocomplete\"\n",
    "\n",
    "payload = \"text=%3CREQUIRED%3E&accessToken=%3CREQUIRED%3E\"\n",
    "headers = {\n",
    "    'content-type': \"application/x-www-form-urlencoded\",\n",
    "    'x-rapidapi-host': \"YelpAPIserg-osipchukV1.p.rapidapi.com\",\n",
    "    'x-rapidapi-key': \"ad9c006358msh99b8a6bd807e76fp182be9jsn32392df16ceb\"\n",
    "    }\n",
    "\n",
    "response = requests.request(\"POST\", url, data=payload, headers=headers)\n",
    "\n",
    "response"
   ]
  },
  {
   "cell_type": "code",
   "execution_count": null,
   "id": "0ddd8b2c-b122-4552-ab10-c3951aef0a3c",
   "metadata": {},
   "outputs": [],
   "source": []
  },
  {
   "cell_type": "code",
   "execution_count": null,
   "id": "ebb72f60-2b0d-4a02-b59f-cb1d0ccc29ba",
   "metadata": {},
   "outputs": [],
   "source": []
  }
 ],
 "metadata": {
  "kernelspec": {
   "display_name": "Python 3",
   "language": "python",
   "name": "python3"
  },
  "language_info": {
   "codemirror_mode": {
    "name": "ipython",
    "version": 3
   },
   "file_extension": ".py",
   "mimetype": "text/x-python",
   "name": "python",
   "nbconvert_exporter": "python",
   "pygments_lexer": "ipython3",
   "version": "3.7.10"
  }
 },
 "nbformat": 4,
 "nbformat_minor": 5
}
